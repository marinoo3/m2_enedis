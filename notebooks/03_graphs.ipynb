{
 "cells": [
  {
   "cell_type": "markdown",
   "metadata": {},
   "source": [
    "# Création des graphiques"
   ]
  },
  {
   "cell_type": "markdown",
   "metadata": {},
   "source": [
    "Imports\n"
   ]
  },
  {
   "cell_type": "code",
   "execution_count": null,
   "metadata": {},
   "outputs": [],
   "source": [
    "import pandas as pd\n",
    "import numpy as np\n",
    "import plotly.express as px\n",
    "from plotly import graph_objects\n",
    "from scipy import stats"
   ]
  },
  {
   "cell_type": "markdown",
   "metadata": {},
   "source": [
    "Define global variables"
   ]
  },
  {
   "cell_type": "code",
   "execution_count": null,
   "metadata": {},
   "outputs": [],
   "source": [
    "COULEURS_DPE = {\n",
    "    'A': '#00A651',\n",
    "    'B': '#50B847',\n",
    "    'C': '#C8D220',\n",
    "    'D': '#FDEE00',\n",
    "    'E': '#FEB700',\n",
    "    'F': '#F0832A',\n",
    "    'G': '#ED1C24'\n",
    "}\n",
    "\n",
    "SEUILS_ALTITUDE = [600, 1200, 1800, 2500]\n",
    "\n",
    "LABELS_ALTITUDE = [\n",
    "    \"0-600m (Vallée)\",           # Zones basses : Annecy, Thonon-les-Bains\n",
    "    \"600-1200m (Colline)\",       # Moyenne montagne\n",
    "    \"1200-1800m (Montagne)\",     # Haute montagne habitée\n",
    "    \"1800-2500m (Haute montagne)\",  # Limite des habitations permanentes\n",
    "    \">2500m (Très haute montagne)\"  # Zones peu habitées\n",
    "]\n",
    "\n",
    "COULEURS_ALTITUDE = {\n",
    "    \"0-600m (Vallée)\": '#27ae60',\n",
    "    \"600-1200m (Colline)\": '#f39c12',\n",
    "    \"1200-1800m (Montagne)\": '#e74c3c',\n",
    "    \"1800-2500m (Haute montagne)\": '#9b59b6',\n",
    "    \">2500m (Très haute montagne)\": '#34495e'\n",
    "}\n",
    "\n",
    "TAILLE_ECHANTILLON_SCATTER = 10000\n",
    "\n",
    "PRIX_ELECTRICITE = 0.20  # €/kWh\n",
    "SURFACE_REFERENCE = 70  # m²"
   ]
  },
  {
   "cell_type": "markdown",
   "metadata": {},
   "source": [
    "## Read data"
   ]
  },
  {
   "cell_type": "markdown",
   "metadata": {},
   "source": [
    "Loads data"
   ]
  },
  {
   "cell_type": "code",
   "execution_count": null,
   "metadata": {},
   "outputs": [],
   "source": [
    "df = pd.read_csv('../web/application/datasets/logements_74.csv')"
   ]
  },
  {
   "cell_type": "markdown",
   "metadata": {},
   "source": [
    "Select columns"
   ]
  },
  {
   "cell_type": "code",
   "execution_count": null,
   "metadata": {},
   "outputs": [],
   "source": [
    "selected_columns = [\n",
    "    'numero_dpe',                          # Identifiant unique du DPE\n",
    "    'code_insee_ban',                      # Code commune\n",
    "    'nom_commune_ban',                     # Nom de la commune\n",
    "    'etiquette_dpe',                       # Classe énergétique (A à G)\n",
    "    'conso_5_usages_par_m2_ep',            # Consommation en kWh/m²/an\n",
    "    'surface_habitable_logement',          # Surface en m² (pour calculs de coûts)\n",
    "    'type_batiment',                       # Maison ou appartement\n",
    "    'periode_construction',                # Époque de construction\n",
    "    'periode_categorie',                   # Categorie de periode de construction\n",
    "    'type_energie_principale_chauffage',   # Type de chauffage utilisé\n",
    "    'altitude_moyenne',                    # Altitude moyenne (déjà dans le DPE)\n",
    "    'classe_altitude',                     # Classe d'altitude\n",
    "    'categorie_dpe'                        # Categorie DPE simplifiées\n",
    "]"
   ]
  },
  {
   "cell_type": "code",
   "execution_count": null,
   "metadata": {},
   "outputs": [],
   "source": [
    "df = df[selected_columns]"
   ]
  },
  {
   "cell_type": "markdown",
   "metadata": {},
   "source": [
    "## Scatter Plot"
   ]
  },
  {
   "cell_type": "code",
   "execution_count": null,
   "metadata": {},
   "outputs": [],
   "source": [
    "df_valide = df[df['altitude_moyenne'].notna()]\n",
    "df_plot = df_valide.sample(n=TAILLE_ECHANTILLON_SCATTER, random_state=0)"
   ]
  },
  {
   "cell_type": "markdown",
   "metadata": {},
   "source": [
    "Linear regression"
   ]
  },
  {
   "cell_type": "code",
   "execution_count": null,
   "metadata": {},
   "outputs": [],
   "source": [
    "slope, intercept, r_value, p_value, std_err = stats.linregress(\n",
    "    df_plot['altitude_moyenne'], \n",
    "    df_plot['conso_5_usages_par_m2_ep']\n",
    ")\n",
    "\n",
    "r_squared = r_value ** 2\n",
    "\n",
    "altitude_min = df_plot['altitude_moyenne'].min()\n",
    "altitude_max = df_plot['altitude_moyenne'].max()\n",
    "x_regression = np.array([altitude_min, altitude_max])\n",
    "y_regression = slope * x_regression + intercept"
   ]
  },
  {
   "cell_type": "markdown",
   "metadata": {},
   "source": [
    "Draw plot"
   ]
  },
  {
   "cell_type": "code",
   "execution_count": null,
   "metadata": {},
   "outputs": [],
   "source": [
    "fig = px.scatter(\n",
    "    df_plot,\n",
    "    x='altitude_moyenne',\n",
    "    y='conso_5_usages_par_m2_ep',\n",
    "    color='etiquette_dpe',\n",
    "    color_discrete_map=COULEURS_DPE,\n",
    "    category_orders={'etiquette_dpe': ['A', 'B', 'C', 'D', 'E', 'F', 'G']},  # Ordre croissant des étiquettes DPE\n",
    "    opacity=0.6,\n",
    "    labels={\n",
    "        'altitude_moyenne': 'Altitude moyenne de la commune (m)',\n",
    "        'conso_5_usages_par_m2_ep': 'Consommation énergétique (kWh/m²/an)',\n",
    "        'etiquette_dpe': 'Étiquette DPE'\n",
    "    },\n",
    "    hover_data={\n",
    "        'altitude_moyenne': ':.0f',\n",
    "        'conso_5_usages_par_m2_ep': ':.1f',\n",
    "        'nom_commune_ban': True,\n",
    "        'type_batiment': True,\n",
    "        'periode_construction': True,\n",
    "        'etiquette_dpe': False  # Déjà visible via la couleur\n",
    "    },\n",
    "    title=f'<b>Impact de l\\'altitude sur la consommation énergétique</b><br>'\n",
    "          f'<sub>Mountain Energy Score - Département Haute-Savoie (74)</sub>'\n",
    ")"
   ]
  },
  {
   "cell_type": "code",
   "execution_count": null,
   "metadata": {},
   "outputs": [],
   "source": [
    "fig.add_trace(\n",
    "    graph_objects.Scatter(\n",
    "        x=x_regression,\n",
    "        y=y_regression,\n",
    "        mode='lines',\n",
    "        name=f'Régression linéaire<br>(+{slope*100:.1f} kWh/m²/an par 100m)',\n",
    "        line=dict(color='#e74c3c', width=3, dash='dash'),\n",
    "        hovertemplate='<b>Tendance linéaire</b><br>Altitude: %{x:.0f}m<br>Consommation estimée: %{y:.1f} kWh/m²/an<extra></extra>'\n",
    "    )\n",
    ")"
   ]
  },
  {
   "cell_type": "markdown",
   "metadata": {},
   "source": [
    "Add altitude zones"
   ]
  },
  {
   "cell_type": "code",
   "execution_count": null,
   "metadata": {},
   "outputs": [],
   "source": [
    "zones = [\n",
    "    (SEUILS_ALTITUDE[0], \"lightgreen\", \"Vallée\"),\n",
    "    (SEUILS_ALTITUDE[1], \"indigo\", \"Colline\"),\n",
    "    (SEUILS_ALTITUDE[2], \"lightcoral\", \"Montagne\")\n",
    "]\n",
    "\n",
    "altitude_debut = altitude_min\n",
    "for seuil, couleur, nom in zones:\n",
    "    if altitude_debut < seuil:\n",
    "        fig.add_vrect(\n",
    "            x0=altitude_debut, \n",
    "            x1=min(seuil, altitude_max),\n",
    "            fillcolor=couleur, \n",
    "            opacity=0.1, \n",
    "            line_width=0,\n",
    "            annotation_text=nom, \n",
    "            annotation_position=\"top left\"\n",
    "        )\n",
    "        altitude_debut = seuil"
   ]
  },
  {
   "cell_type": "markdown",
   "metadata": {},
   "source": [
    "Customize layout"
   ]
  },
  {
   "cell_type": "code",
   "execution_count": null,
   "metadata": {},
   "outputs": [],
   "source": [
    "fig.update_layout(\n",
    "    # Dimensions pour une bonne lisibilité\n",
    "    width=1200,\n",
    "    height=700,\n",
    "    \n",
    "    # Style de fond\n",
    "    plot_bgcolor='white',\n",
    "    paper_bgcolor='white',\n",
    "    \n",
    "    # Configuration du titre\n",
    "    title={\n",
    "        'font': {'size': 22, 'family': 'Arial, sans-serif', 'color': '#2c3e50'},\n",
    "        'x': 0.5,\n",
    "        'xanchor': 'center'\n",
    "    },\n",
    "    \n",
    "    # Configuration des axes\n",
    "    xaxis=dict(\n",
    "        showgrid=True,\n",
    "        gridwidth=1,\n",
    "        gridcolor='#ecf0f1',\n",
    "        zeroline=False,\n",
    "        title_font=dict(size=13, color='#34495e'),\n",
    "        tickfont=dict(size=11, color='#34495e')\n",
    "    ),\n",
    "    yaxis=dict(\n",
    "        showgrid=True,\n",
    "        gridwidth=1,\n",
    "        gridcolor='#ecf0f1',\n",
    "        zeroline=False,\n",
    "        title_font=dict(size=13, color='#34495e'),\n",
    "        tickfont=dict(size=11, color='#34495e')\n",
    "    ),\n",
    "    \n",
    "    # Configuration de la légende\n",
    "    legend=dict(\n",
    "    title=dict(text='<b>Étiquette DPE</b>', font=dict(size=12)),\n",
    "    orientation='v',\n",
    "    yanchor='top',\n",
    "    y=0.98,\n",
    "    xanchor='right',\n",
    "    x=0.98,\n",
    "    bgcolor='rgba(255, 255, 255, 0.9)',\n",
    "    bordercolor='#bdc3c7',\n",
    "    borderwidth=1,\n",
    "    font=dict(size=10),\n",
    "    ),\n",
    "    \n",
    "    # Mode d'interaction au survol\n",
    "    hovermode='closest',\n",
    "    hoverlabel=dict(\n",
    "        bgcolor='white',\n",
    "        font_size=11,\n",
    "        font_family='Arial, sans-serif'\n",
    "    ),\n",
    "    \n",
    "    # Marges pour l'annotation en bas\n",
    "    margin=dict(l=80, r=80, t=100, b=140)\n",
    ")"
   ]
  },
  {
   "cell_type": "code",
   "execution_count": null,
   "metadata": {},
   "outputs": [],
   "source": [
    "fig.add_annotation(\n",
    "    text=f\"<b>📊 Insight clé :</b> Chaque 100m d'altitude supplémentaire augmente \"\n",
    "         f\"la consommation de <b>{slope*100:.1f} kWh/m²/an</b> en moyenne \"\n",
    "         f\"<i>(R² = {r_squared:.3f}, p < 0.001)</i>. \"\n",
    "         f\"Cette corrélation significative démontre l'impact direct de l'altitude sur les besoins énergétiques.\",\n",
    "    xref=\"paper\", yref=\"paper\",\n",
    "    x=0.5, y=-0.17,\n",
    "    xanchor='center', yanchor='top',\n",
    "    showarrow=False,\n",
    "    bgcolor='rgba(255, 243, 205, 0.95)',\n",
    "    bordercolor='#f39c12',\n",
    "    borderwidth=2,\n",
    "    borderpad=10,\n",
    "    font=dict(size=11, family='Arial, sans-serif', color='#34495e')\n",
    ")"
   ]
  },
  {
   "cell_type": "markdown",
   "metadata": {},
   "source": [
    "## Boxplot"
   ]
  },
  {
   "cell_type": "code",
   "execution_count": null,
   "metadata": {},
   "outputs": [],
   "source": [
    "df_valide = df[\n",
    "    (df['altitude_moyenne'].notna()) & \n",
    "    (df['classe_altitude'].notna()) &\n",
    "    (df['conso_5_usages_par_m2_ep'] <= 1000)  # Limite supérieure réaliste\n",
    "]"
   ]
  },
  {
   "cell_type": "markdown",
   "metadata": {},
   "source": [
    "Classes"
   ]
  },
  {
   "cell_type": "code",
   "execution_count": null,
   "metadata": {},
   "outputs": [],
   "source": [
    "ordre_tranches = [label for label in LABELS_ALTITUDE if label in df_valide['classe_altitude'].unique()]"
   ]
  },
  {
   "cell_type": "code",
   "execution_count": null,
   "metadata": {},
   "outputs": [],
   "source": [
    "stats_par_tranche = []\n",
    "\n",
    "for tranche in ordre_tranches:\n",
    "    donnees_tranche = df_valide[df_valide['classe_altitude'] == tranche]['conso_5_usages_par_m2_ep']\n",
    "    \n",
    "    stats = {\n",
    "        'tranche': tranche,\n",
    "        'effectif': len(donnees_tranche),\n",
    "        'mediane': donnees_tranche.median(),\n",
    "        'moyenne': donnees_tranche.mean(),\n",
    "        'q1': donnees_tranche.quantile(0.25),\n",
    "        'q3': donnees_tranche.quantile(0.75),\n",
    "        'min': donnees_tranche.min(),\n",
    "        'max': donnees_tranche.max()\n",
    "    }\n",
    "    stats_par_tranche.append(stats)\n",
    "\n",
    "ecart_vallee_montagne = stats_par_tranche[-1]['mediane'] - stats_par_tranche[0]['mediane']\n",
    "pct_augmentation = (ecart_vallee_montagne / stats_par_tranche[0]['mediane']) * 100"
   ]
  },
  {
   "cell_type": "markdown",
   "metadata": {},
   "source": [
    "Draw plot"
   ]
  },
  {
   "cell_type": "code",
   "execution_count": null,
   "metadata": {},
   "outputs": [],
   "source": [
    "fig = graph_objects.Figure()\n",
    "\n",
    "# Ajout d'un boxplot pour chaque tranche d'altitude\n",
    "for tranche in ordre_tranches:\n",
    "    donnees_tranche = df_valide[df_valide['classe_altitude'] == tranche]['conso_5_usages_par_m2_ep']\n",
    "    \n",
    "    fig.add_trace(graph_objects.Box(\n",
    "        y=donnees_tranche,\n",
    "        name=tranche,\n",
    "        marker_color=COULEURS_ALTITUDE.get(tranche, '#95a5a6'),\n",
    "        boxmean='sd',  # Affiche aussi la moyenne avec écart-type\n",
    "        hovertemplate=(\n",
    "            '<b>%{fullData.name}</b><br>' +\n",
    "            'Médiane: %{median:.0f} kWh/m²/an<br>' +\n",
    "            'Q1: %{q1:.0f} kWh/m²/an<br>' +\n",
    "            'Q3: %{q3:.0f} kWh/m²/an<br>' +\n",
    "            'Min: %{min:.0f} kWh/m²/an<br>' +\n",
    "            'Max: %{max:.0f} kWh/m²/an<br>' +\n",
    "            '<extra></extra>'\n",
    "        )\n",
    "    ))"
   ]
  },
  {
   "cell_type": "markdown",
   "metadata": {},
   "source": [
    "Customize layout"
   ]
  },
  {
   "cell_type": "code",
   "execution_count": null,
   "metadata": {},
   "outputs": [],
   "source": [
    "fig.update_layout(\n",
    "    # Titre\n",
    "    title={\n",
    "        'text': (\n",
    "            '<b>Distribution de la consommation énergétique par tranche d\\'altitude</b><br>'\n",
    "            '<sub>Mountain Energy Score - Département Haute-Savoie (74)</sub>'\n",
    "        ),\n",
    "        'font': {'size': 22, 'family': 'Arial, sans-serif', 'color': '#2c3e50'},\n",
    "        'x': 0.5,\n",
    "        'xanchor': 'center'\n",
    "    },\n",
    "    \n",
    "    # Axes\n",
    "    xaxis=dict(\n",
    "        title='<b>Tranche d\\'altitude</b>',\n",
    "        title_font=dict(size=13, color='#34495e'),\n",
    "        tickfont=dict(size=11, color='#34495e'),\n",
    "        showgrid=False\n",
    "    ),\n",
    "    yaxis=dict(\n",
    "        title='<b>Consommation énergétique (kWh/m²/an)</b>',\n",
    "        title_font=dict(size=13, color='#34495e'),\n",
    "        tickfont=dict(size=11, color='#34495e'),\n",
    "        showgrid=True,\n",
    "        gridwidth=1,\n",
    "        gridcolor='#ecf0f1',\n",
    "        zeroline=False\n",
    "    ),\n",
    "    \n",
    "    # Style\n",
    "    plot_bgcolor='white',\n",
    "    paper_bgcolor='white',\n",
    "    showlegend=False,  # Pas de légende nécessaire (noms sur l'axe X)\n",
    "    \n",
    "    # Dimensions\n",
    "    width=1200,\n",
    "    height=700,\n",
    "    \n",
    "    # Marges pour l'annotation\n",
    "    margin=dict(l=80, r=80, t=100, b=160)\n",
    ")"
   ]
  },
  {
   "cell_type": "code",
   "execution_count": null,
   "metadata": {},
   "outputs": [],
   "source": [
    "fig.add_annotation(\n",
    "    text=(\n",
    "        f\"<b>📊 Insight clé :</b> La consommation médiane augmente de \"\n",
    "        f\"<b>{ecart_vallee_montagne:.0f} kWh/m²/an</b> entre la vallée \"\n",
    "        f\"({stats_par_tranche[0]['mediane']:.0f} kWh/m²/an) et la haute montagne \"\n",
    "        f\"({stats_par_tranche[-1]['mediane']:.0f} kWh/m²/an), soit une hausse de \"\n",
    "        f\"<b>{pct_augmentation:.1f}%</b>.<br>\"\n",
    "        f\"La dispersion augmente également avec l'altitude, révélant une plus grande hétérogénéité des situations en montagne.\"\n",
    "        ),\n",
    "        xref=\"paper\", yref=\"paper\",\n",
    "        x=0.5, y=-0.19,\n",
    "        xanchor='center', yanchor='top',\n",
    "        showarrow=False,\n",
    "        bgcolor='rgba(255, 243, 205, 0.95)',\n",
    "        bordercolor='#f39c12',\n",
    "        borderwidth=2,\n",
    "        borderpad=10,\n",
    "        font=dict(size=11, family='Arial, sans-serif', color='#34495e')\n",
    "    )"
   ]
  },
  {
   "cell_type": "markdown",
   "metadata": {},
   "source": [
    "## Barplot"
   ]
  },
  {
   "cell_type": "code",
   "execution_count": null,
   "metadata": {},
   "outputs": [],
   "source": [
    "df_valide = df[\n",
    "    (df['altitude_moyenne'].notna()) & \n",
    "    (df['classe_altitude'].notna()) &\n",
    "    (df['conso_5_usages_par_m2_ep'] <= 1000)\n",
    "]"
   ]
  },
  {
   "cell_type": "markdown",
   "metadata": {},
   "source": [
    "Classes"
   ]
  },
  {
   "cell_type": "code",
   "execution_count": null,
   "metadata": {},
   "outputs": [],
   "source": [
    "ordre_tranches = [label for label in LABELS_ALTITUDE if label in df_valide['classe_altitude'].unique()]"
   ]
  },
  {
   "cell_type": "code",
   "execution_count": null,
   "metadata": {},
   "outputs": [],
   "source": [
    "stats_tranches = []\n",
    "\n",
    "for tranche in ordre_tranches:\n",
    "    donnees_tranche = df_valide[df_valide['classe_altitude'] == tranche]['conso_5_usages_par_m2_ep']\n",
    "    \n",
    "    conso_moyenne = donnees_tranche.mean()\n",
    "    effectif = len(donnees_tranche)\n",
    "    \n",
    "    stats_tranches.append({\n",
    "        'tranche': tranche,\n",
    "        'conso_moyenne': conso_moyenne,\n",
    "        'effectif': effectif\n",
    "    })"
   ]
  },
  {
   "cell_type": "code",
   "execution_count": null,
   "metadata": {},
   "outputs": [],
   "source": [
    "conso_reference = stats_tranches[0]['conso_moyenne']\n",
    "\n",
    "# Calcul du surcoût pour chaque tranche\n",
    "for stats in stats_tranches:\n",
    "    # Différence de consommation par rapport à la vallée (kWh/m²/an)\n",
    "    ecart_conso = stats['conso_moyenne'] - conso_reference\n",
    "    \n",
    "    # Surcoût annuel pour un logement de référence (€/an)\n",
    "    surcout_annuel = ecart_conso * SURFACE_REFERENCE * PRIX_ELECTRICITE\n",
    "    \n",
    "    stats['ecart_conso'] = ecart_conso\n",
    "    stats['surcout_annuel'] = surcout_annuel"
   ]
  },
  {
   "cell_type": "code",
   "execution_count": null,
   "metadata": {},
   "outputs": [],
   "source": [
    "montagne = stats_tranches[-2]\n",
    "haute_montagne = stats_tranches[-1]"
   ]
  },
  {
   "cell_type": "markdown",
   "metadata": {},
   "source": [
    "Draw plot"
   ]
  },
  {
   "cell_type": "code",
   "execution_count": null,
   "metadata": {},
   "outputs": [],
   "source": [
    "# Préparation des données pour le graphique\n",
    "tranches_noms = [s['tranche'] for s in stats_tranches]\n",
    "surcouts = [s['surcout_annuel'] for s in stats_tranches]\n",
    "consos = [s['conso_moyenne'] for s in stats_tranches]\n",
    "effectifs = [s['effectif'] for s in stats_tranches]\n",
    "\n",
    "couleurs_barres = [COULEURS_ALTITUDE.get(t, '#95a5a6') for t in tranches_noms]"
   ]
  },
  {
   "cell_type": "code",
   "execution_count": null,
   "metadata": {},
   "outputs": [],
   "source": [
    "fig = graph_objects.Figure()\n",
    "\n",
    "fig.add_trace(graph_objects.Bar(\n",
    "    x=tranches_noms,\n",
    "    y=surcouts,\n",
    "    marker_color=couleurs_barres,\n",
    "    text=[f\"<b>{s:.0f} €/an</b><br>({c:.0f} kWh/m²/an)<br>n = {e:,}\" \n",
    "          for s, c, e in zip(surcouts, consos, effectifs)],\n",
    "    textposition='inside',  \n",
    "    textfont=dict(size=12, color='white', family='Arial, sans-serif'),  \n",
    "    hovertemplate=(\n",
    "        '<b>%{x}</b><br>' +\n",
    "        'Surcoût annuel: %{y:.0f} €/an<br>' +\n",
    "        'Consommation: %{customdata[0]:.0f} kWh/m²/an<br>' +\n",
    "        'Effectif: %{customdata[1]:,} logements<br>' +\n",
    "        '<extra></extra>'\n",
    "    ),\n",
    "    customdata=[[c, e] for c, e in zip(consos, effectifs)]\n",
    "))"
   ]
  },
  {
   "cell_type": "markdown",
   "metadata": {},
   "source": [
    "Customize layout"
   ]
  },
  {
   "cell_type": "code",
   "execution_count": null,
   "metadata": {},
   "outputs": [],
   "source": [
    "surcout_max = max(surcouts)\n",
    "tranche_max = tranches_noms[surcouts.index(surcout_max)]\n",
    "conso_max = consos[surcouts.index(surcout_max)]"
   ]
  },
  {
   "cell_type": "code",
   "execution_count": null,
   "metadata": {},
   "outputs": [],
   "source": [
    "fig.update_layout(\n",
    "    # Titre\n",
    "    title={\n",
    "        'text': (\n",
    "            '<b>Surcoût énergétique annuel par tranche d\\'altitude</b><br>'\n",
    "            f'<sub>Mountain Energy Score - Département Haute-Savoie (74) - '\n",
    "            f'Logement de référence : {SURFACE_REFERENCE}m², prix électricité {PRIX_ELECTRICITE}€/kWh</sub>'\n",
    "        ),\n",
    "        'font': {'size': 22, 'family': 'Arial, sans-serif', 'color': '#2c3e50'},\n",
    "        'x': 0.5,\n",
    "        'xanchor': 'center'\n",
    "    },\n",
    "    \n",
    "    # Axes\n",
    "    xaxis=dict(\n",
    "        title='<b>Tranche d\\'altitude</b>',\n",
    "        title_font=dict(size=13, color='#34495e'),\n",
    "        tickfont=dict(size=11, color='#34495e'),\n",
    "        showgrid=False\n",
    "    ),\n",
    "    yaxis=dict(\n",
    "        title='<b>Surcoût énergétique annuel (€/an)</b>',\n",
    "        title_font=dict(size=13, color='#34495e'),\n",
    "        tickfont=dict(size=11, color='#34495e'),\n",
    "        showgrid=True,\n",
    "        gridwidth=1,\n",
    "        gridcolor='#ecf0f1',\n",
    "        zeroline=True,\n",
    "        zerolinewidth=2,\n",
    "        zerolinecolor='#34495e'\n",
    "    ),\n",
    "    \n",
    "    # Style\n",
    "    plot_bgcolor='white',\n",
    "    paper_bgcolor='white',\n",
    "    showlegend=False,\n",
    "    \n",
    "    # Dimensions\n",
    "    width=1200,\n",
    "    height=700,\n",
    "    \n",
    "    # Marges\n",
    "    margin=dict(l=80, r=80, t=120, b=160)\n",
    ")"
   ]
  },
  {
   "cell_type": "code",
   "execution_count": null,
   "metadata": {},
   "outputs": [],
   "source": [
    "fig.add_annotation(\n",
    "    text=(\n",
    "        f\"<b>💰 Insight clé :</b> Vivre en {tranche_max.lower()} coûte <b>+{surcout_max:.0f}€/an</b> \"\n",
    "        f\"de plus en énergie par rapport à la vallée pour un logement de {SURFACE_REFERENCE}m².<br>\"\n",
    "        f\"Cela représente l'équivalent de <b>{surcout_max/12:.0f}€ par mois</b> de facture énergétique supplémentaire, \"\n",
    "        f\"soit un budget non négligeable pour les ménages vivant en altitude.\"\n",
    "    ),\n",
    "    xref=\"paper\", yref=\"paper\",\n",
    "    x=0.5, y=-0.19,\n",
    "    xanchor='center', yanchor='top',\n",
    "    showarrow=False,\n",
    "    bgcolor='rgba(255, 243, 205, 0.95)',\n",
    "    bordercolor='#f39c12',\n",
    "    borderwidth=2,\n",
    "    borderpad=10,\n",
    "    font=dict(size=11, family='Arial, sans-serif', color='#34495e')\n",
    ")"
   ]
  },
  {
   "cell_type": "markdown",
   "metadata": {},
   "source": [
    "## Barre DPE"
   ]
  },
  {
   "cell_type": "code",
   "execution_count": null,
   "metadata": {},
   "outputs": [],
   "source": [
    "df_valide = df[\n",
    "    (df['altitude_moyenne'].notna()) & \n",
    "    (df['classe_altitude'].notna()) &\n",
    "    (df['etiquette_dpe'].isin(['A', 'B', 'C', 'D', 'E', 'F', 'G']))\n",
    "]"
   ]
  },
  {
   "cell_type": "markdown",
   "metadata": {},
   "source": [
    "Classes"
   ]
  },
  {
   "cell_type": "code",
   "execution_count": null,
   "metadata": {},
   "outputs": [],
   "source": [
    "ordre_tranches = [label for label in LABELS_ALTITUDE if label in df_valide['classe_altitude'].unique()]"
   ]
  },
  {
   "cell_type": "code",
   "execution_count": null,
   "metadata": {},
   "outputs": [],
   "source": [
    "stats_par_tranche = []\n",
    "\n",
    "for tranche in ordre_tranches:\n",
    "    donnees_tranche = df_valide[df_valide['classe_altitude'] == tranche]\n",
    "    total = len(donnees_tranche)\n",
    "    \n",
    "    # Comptage par catégorie\n",
    "    categories = donnees_tranche['categorie_dpe'].value_counts()\n",
    "    \n",
    "    stats = {\n",
    "        'tranche': tranche,\n",
    "        'total': total,\n",
    "        'pct_bons': (categories.get('Bons (A-B)', 0) / total * 100),\n",
    "        'pct_moyens': (categories.get('Moyens (C-D)', 0) / total * 100),\n",
    "        'pct_mediocres': (categories.get('Médiocres (E)', 0) / total * 100),\n",
    "        'pct_passoires': (categories.get('Passoires (F-G)', 0) / total * 100),\n",
    "        'nb_passoires': categories.get('Passoires (F-G)', 0)\n",
    "    }\n",
    "    \n",
    "    stats_par_tranche.append(stats)"
   ]
  },
  {
   "cell_type": "code",
   "execution_count": null,
   "metadata": {},
   "outputs": [],
   "source": [
    "pct_vallee = stats_par_tranche[0]['pct_passoires']\n",
    "pct_montagne_max = max([s['pct_passoires'] for s in stats_par_tranche])\n",
    "ratio = pct_montagne_max / pct_vallee if pct_vallee > 0 else 0"
   ]
  },
  {
   "cell_type": "markdown",
   "metadata": {},
   "source": [
    "Draw plot"
   ]
  },
  {
   "cell_type": "code",
   "execution_count": null,
   "metadata": {},
   "outputs": [],
   "source": [
    "tranches_noms = [s['tranche'] for s in stats_par_tranche]"
   ]
  },
  {
   "cell_type": "code",
   "execution_count": null,
   "metadata": {},
   "outputs": [],
   "source": [
    "fig = graph_objects.Figure()\n",
    "\n",
    "# Ordre d'empilement : du meilleur au pire (A-B en bas, F-G en haut)\n",
    "fig.add_trace(graph_objects.Bar(\n",
    "    name='Bons DPE (A-B)',\n",
    "    x=tranches_noms,\n",
    "    y=[s['pct_bons'] for s in stats_par_tranche],\n",
    "    marker_color='#27ae60',\n",
    "    text=[f\"{s['pct_bons']:.1f}%\" for s in stats_par_tranche],\n",
    "    textposition='inside',\n",
    "    textfont=dict(color='white', size=11),\n",
    "    hovertemplate='<b>%{x}</b><br>Bons DPE (A-B): %{y:.1f}%<extra></extra>'\n",
    "))\n",
    "\n",
    "fig.add_trace(graph_objects.Bar(\n",
    "    name='DPE moyens (C-D)',\n",
    "    x=tranches_noms,\n",
    "    y=[s['pct_moyens'] for s in stats_par_tranche],\n",
    "    marker_color='#f39c12',\n",
    "    text=[f\"{s['pct_moyens']:.1f}%\" for s in stats_par_tranche],\n",
    "    textposition='inside',\n",
    "    textfont=dict(color='white', size=11),\n",
    "    hovertemplate='<b>%{x}</b><br>DPE moyens (C-D): %{y:.1f}%<extra></extra>'\n",
    "))\n",
    "\n",
    "fig.add_trace(graph_objects.Bar(\n",
    "    name='DPE médiocres (E)',\n",
    "    x=tranches_noms,\n",
    "    y=[s['pct_mediocres'] for s in stats_par_tranche],\n",
    "    marker_color='#e67e22',\n",
    "    text=[f\"{s['pct_mediocres']:.1f}%\" for s in stats_par_tranche],\n",
    "    textposition='inside',\n",
    "    textfont=dict(color='white', size=11),\n",
    "    hovertemplate='<b>%{x}</b><br>DPE médiocres (E): %{y:.1f}%<extra></extra>'\n",
    "))\n",
    "\n",
    "fig.add_trace(graph_objects.Bar(\n",
    "    name='PASSOIRES THERMIQUES (F-G)',\n",
    "    x=tranches_noms,\n",
    "    y=[s['pct_passoires'] for s in stats_par_tranche],\n",
    "    marker_color='#e74c3c',\n",
    "    text=[f\"<b>{s['pct_passoires']:.1f}%</b><br>({s['nb_passoires']:,})\" for s in stats_par_tranche],\n",
    "    textposition='inside',\n",
    "    textfont=dict(color='white', size=12, family='Arial, sans-serif'),\n",
    "    hovertemplate='<b>%{x}</b><br>Passoires (F-G): %{y:.1f}%<extra></extra>'\n",
    "))"
   ]
  },
  {
   "cell_type": "markdown",
   "metadata": {},
   "source": [
    "Customize layout"
   ]
  },
  {
   "cell_type": "code",
   "execution_count": null,
   "metadata": {},
   "outputs": [],
   "source": [
    "fig.update_layout(\n",
    "    # Empilement à 100%\n",
    "    barmode='stack',\n",
    "    \n",
    "    # Titre\n",
    "    title={\n",
    "        'text': (\n",
    "            '<b>Concentration des passoires thermiques selon l\\'altitude</b><br>'\n",
    "            f'<sub>Mountain Energy Score - Département Haute-Savoie (74)</sub>'\n",
    "        ),\n",
    "        'font': {'size': 22, 'family': 'Arial, sans-serif', 'color': '#2c3e50'},\n",
    "        'x': 0.5,\n",
    "        'xanchor': 'center'\n",
    "    },\n",
    "    \n",
    "    # Axes\n",
    "    xaxis=dict(\n",
    "        title='<b>Tranche d\\'altitude</b>',\n",
    "        title_font=dict(size=13, color='#34495e'),\n",
    "        tickfont=dict(size=11, color='#34495e')\n",
    "    ),\n",
    "    yaxis=dict(\n",
    "        title='<b>Répartition des DPE (%)</b>',\n",
    "        title_font=dict(size=13, color='#34495e'),\n",
    "        tickfont=dict(size=11, color='#34495e'),\n",
    "        range=[0, 100],\n",
    "        ticksuffix='%'\n",
    "    ),\n",
    "    \n",
    "    # Style\n",
    "    plot_bgcolor='white',\n",
    "    paper_bgcolor='white',\n",
    "    \n",
    "    # Légende\n",
    "    legend=dict(\n",
    "        orientation='h',\n",
    "        yanchor='bottom',\n",
    "        y=1.02,\n",
    "        xanchor='center',\n",
    "        x=0.5,\n",
    "        font=dict(size=11)\n",
    "    ),\n",
    "    \n",
    "    # Dimensions\n",
    "    width=1200,\n",
    "    height=700,\n",
    "    \n",
    "    # Marges\n",
    "    margin=dict(l=80, r=80, t=140, b=160)\n",
    ")"
   ]
  },
  {
   "cell_type": "code",
   "execution_count": null,
   "metadata": {},
   "outputs": [],
   "source": [
    "fig.add_annotation(\n",
    "    text=(\n",
    "        f\"<b>🔥 Insight clé :</b> Les passoires thermiques (F/G) représentent \"\n",
    "        f\"<b>{pct_vallee:.1f}%</b> des logements en vallée contre <b>{pct_montagne_max:.1f}%</b> en montagne,<br>\"\n",
    "        f\"soit <b>×{ratio:.1f}</b> plus de risque d'avoir un logement énergivore en altitude. \"\n",
    "        f\"Cette concentration révèle un enjeu majeur de rénovation énergétique en zone de montagne.\"\n",
    "    ),\n",
    "    xref=\"paper\", yref=\"paper\",\n",
    "    x=0.5, y=-0.19,\n",
    "    xanchor='center', yanchor='top',\n",
    "    showarrow=False,\n",
    "    bgcolor='rgba(255, 243, 205, 0.95)',\n",
    "    bordercolor='#f39c12',\n",
    "    borderwidth=2,\n",
    "    borderpad=10,\n",
    "    font=dict(size=11, family='Arial, sans-serif', color='#34495e')\n",
    ")"
   ]
  },
  {
   "cell_type": "markdown",
   "metadata": {},
   "source": [
    "## Periode de construction"
   ]
  },
  {
   "cell_type": "code",
   "execution_count": null,
   "metadata": {},
   "outputs": [],
   "source": [
    "df_valide = df[\n",
    "    (df['altitude_moyenne'].notna()) & \n",
    "    (df['classe_altitude'].notna()) &\n",
    "    (df['conso_5_usages_par_m2_ep'] <= 1000) &\n",
    "    (df['periode_categorie'].notna())\n",
    "]"
   ]
  },
  {
   "cell_type": "markdown",
   "metadata": {},
   "source": [
    "Compute heatmap"
   ]
  },
  {
   "cell_type": "code",
   "execution_count": null,
   "metadata": {},
   "outputs": [],
   "source": [
    "ordre_tranches = [label for label in LABELS_ALTITUDE if label in df_valide['classe_altitude'].unique()]\n",
    "\n",
    "# Ordre chronologique des périodes\n",
    "ordre_periodes = ['Avant 1975', '1975-2000', '2001-2012', 'Après 2012']\n",
    "ordre_periodes = [p for p in ordre_periodes if p in df_valide['periode_categorie'].unique()]"
   ]
  },
  {
   "cell_type": "code",
   "execution_count": null,
   "metadata": {},
   "outputs": [],
   "source": [
    "tableau_conso = pd.DataFrame(index=ordre_periodes, columns=ordre_tranches)\n",
    "tableau_effectifs = pd.DataFrame(index=ordre_periodes, columns=ordre_tranches)\n",
    "\n",
    "for periode in ordre_periodes:\n",
    "    for tranche in ordre_tranches:\n",
    "        mask = (df_valide['periode_categorie'] == periode) & (df_valide['classe_altitude'] == tranche)\n",
    "        logements = df_valide[mask]\n",
    "        \n",
    "        if len(logements) >= 10:  # Seuil minimum\n",
    "            conso_moyenne = logements['conso_5_usages_par_m2_ep'].mean()\n",
    "            effectif = len(logements)\n",
    "            \n",
    "            tableau_conso.loc[periode, tranche] = conso_moyenne\n",
    "            tableau_effectifs.loc[periode, tranche] = effectif"
   ]
  },
  {
   "cell_type": "markdown",
   "metadata": {},
   "source": [
    "Cross analysis"
   ]
  },
  {
   "cell_type": "code",
   "execution_count": null,
   "metadata": {},
   "outputs": [],
   "source": [
    "tableau_conso_numeric = tableau_conso.apply(pd.to_numeric, errors='coerce')\n",
    "max_conso = tableau_conso_numeric.max().max()\n",
    "max_position = tableau_conso_numeric.stack().idxmax()\n",
    "\n",
    "pire_periode = max_position[0]\n",
    "pire_tranche = max_position[1]\n",
    "\n",
    "# Comparaison avec le meilleur\n",
    "min_conso = tableau_conso_numeric.min().min()\n",
    "min_position = tableau_conso_numeric.stack().idxmin()\n",
    "\n",
    "meilleur_periode = min_position[0]\n",
    "meilleur_tranche = min_position[1]\n",
    "\n",
    "ecart = max_conso - min_conso\n",
    "pct_ecart = (ecart / max_conso) * 100"
   ]
  },
  {
   "cell_type": "markdown",
   "metadata": {},
   "source": [
    "Draw plot"
   ]
  },
  {
   "cell_type": "code",
   "execution_count": null,
   "metadata": {},
   "outputs": [],
   "source": [
    "z_data = tableau_conso_numeric.values\n",
    "\n",
    "text_data = []\n",
    "for i, periode in enumerate(tableau_conso.index):\n",
    "    row_text = []\n",
    "    for j, tranche in enumerate(tableau_conso.columns):\n",
    "        conso = tableau_conso.iloc[i, j]\n",
    "        effectif = tableau_effectifs.iloc[i, j]\n",
    "        if pd.notna(conso):\n",
    "            # Choix de la couleur de texte selon le fond de la cellule pour garantir la lisibilité\n",
    "            # Seuil 220 kWh/m²/an : correspond approximativement à la limite entre fonds clairs et foncés\n",
    "            couleur = \"black\" if conso > 220 else \"white\"\n",
    "            row_text.append(\n",
    "                f\"<span style='color:{couleur}'><b>{conso:.0f}</b> kWh/m²/an<br>({int(effectif):,})</span>\"\n",
    "            )\n",
    "        else:\n",
    "            row_text.append(\"\")\n",
    "    text_data.append(row_text)"
   ]
  },
  {
   "cell_type": "code",
   "execution_count": null,
   "metadata": {},
   "outputs": [],
   "source": [
    "fig = graph_objects.Figure(data=graph_objects.Heatmap(\n",
    "    z=z_data,\n",
    "    x=ordre_tranches,\n",
    "    y=ordre_periodes,\n",
    "    text=text_data,\n",
    "    texttemplate='%{text}',\n",
    "    textfont={\"size\": 10, \"family\": \"Arial, sans-serif\"},\n",
    "    colorscale='RdYlGn_r',  # Rouge (mauvais) → Jaune → Vert (bon), inversé\n",
    "    colorbar=dict(\n",
    "        title=dict(\n",
    "            text=\"Consommation<br>(kWh/m²/an)\",\n",
    "            side=\"right\"\n",
    "        ),\n",
    "        thickness=15,\n",
    "        len=0.7\n",
    "    ),\n",
    "    hovertemplate=(\n",
    "        '<b>%{y}</b><br>' +\n",
    "        '%{x}<br>' +\n",
    "        'Consommation: <b>%{z:.0f} kWh/m²/an</b><br>' +\n",
    "        '<extra></extra>'\n",
    "    )\n",
    "))"
   ]
  },
  {
   "cell_type": "markdown",
   "metadata": {},
   "source": [
    "Customize layout"
   ]
  },
  {
   "cell_type": "code",
   "execution_count": null,
   "metadata": {},
   "outputs": [],
   "source": [
    "fig.update_layout(\n",
    "    # Titre\n",
    "    title={\n",
    "        'text': (\n",
    "            '<b>Double peine : ancienneté du bâti × altitude</b><br>'\n",
    "            '<sub>Mountain Energy Score - Département Haute-Savoie (74)</sub>'\n",
    "        ),\n",
    "        'font': {'size': 22, 'family': 'Arial, sans-serif', 'color': '#2c3e50'},\n",
    "        'x': 0.5,\n",
    "        'xanchor': 'center'\n",
    "    },\n",
    "    \n",
    "    # Axes\n",
    "    xaxis=dict(\n",
    "        title='<b>Tranche d\\'altitude</b>',\n",
    "        title_font=dict(size=13, color='#34495e'),\n",
    "        tickfont=dict(size=10, color='#34495e'),\n",
    "        side='bottom',\n",
    "        tickangle=0\n",
    "    ),\n",
    "    yaxis=dict(\n",
    "        title='<b>Période de construction</b>',\n",
    "        title_font=dict(size=13, color='#34495e'),\n",
    "        tickfont=dict(size=11, color='#34495e')\n",
    "    ),\n",
    "    \n",
    "    # Style\n",
    "    plot_bgcolor='white',\n",
    "    paper_bgcolor='white',\n",
    "    \n",
    "    # Dimensions\n",
    "    width=1200,\n",
    "    height=700,\n",
    "    \n",
    "    # Marges\n",
    "    margin=dict(l=120, r=150, t=120, b=160)\n",
    ")"
   ]
  },
  {
   "cell_type": "code",
   "execution_count": null,
   "metadata": {},
   "outputs": [],
   "source": [
    "fig.add_annotation(\n",
    "    text=(\n",
    "        f\"<b>🔥 Insight clé :</b> Les logements <b>{pire_periode}</b> en <b>{pire_tranche.lower()}</b> \"\n",
    "        f\"consomment jusqu'à <b>{max_conso:.0f} kWh/m²/an</b>, soit <b>{pct_ecart:.0f}% de plus</b> \"\n",
    "        f\"que les logements récents en vallée ({min_conso:.0f} kWh/m²/an).<br>\"\n",
    "        f\"Cette double peine (ancien bâti + altitude) révèle une priorité absolue pour les politiques \"\n",
    "        f\"de rénovation énergétique : <b>{int(tableau_effectifs.loc[pire_periode, pire_tranche]):,} logements</b> \"\n",
    "        f\"sont concernés dans cette seule catégorie.\"\n",
    "    ),\n",
    "    xref=\"paper\", yref=\"paper\",\n",
    "    x=0.5, y=-0.19,\n",
    "    xanchor='center', yanchor='top',\n",
    "    showarrow=False,\n",
    "    bgcolor='rgba(255, 243, 205, 0.95)',\n",
    "    bordercolor='#f39c12',\n",
    "    borderwidth=2,\n",
    "    borderpad=10,\n",
    "    font=dict(size=11, family='Arial, sans-serif', color='#34495e')\n",
    ")"
   ]
  }
 ],
 "metadata": {
  "kernelspec": {
   "display_name": "Python 3",
   "language": "python",
   "name": "python3"
  },
  "language_info": {
   "codemirror_mode": {
    "name": "ipython",
    "version": 3
   },
   "file_extension": ".py",
   "mimetype": "text/x-python",
   "name": "python",
   "nbconvert_exporter": "python",
   "pygments_lexer": "ipython3",
   "version": "3.10.6"
  }
 },
 "nbformat": 4,
 "nbformat_minor": 2
}
