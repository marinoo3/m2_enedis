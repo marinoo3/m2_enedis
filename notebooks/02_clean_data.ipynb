{
 "cells": [
  {
   "cell_type": "markdown",
   "metadata": {},
   "source": [
    "# Clean and format Ademe data"
   ]
  },
  {
   "cell_type": "markdown",
   "metadata": {},
   "source": [
    "Imports"
   ]
  },
  {
   "cell_type": "code",
   "execution_count": null,
   "metadata": {},
   "outputs": [],
   "source": [
    "import pandas as pd"
   ]
  },
  {
   "cell_type": "markdown",
   "metadata": {},
   "source": [
    "### Load and concat data"
   ]
  },
  {
   "cell_type": "code",
   "execution_count": null,
   "metadata": {},
   "outputs": [],
   "source": [
    "existant = pd.read_csv('data/existant74.csv')\n",
    "neuf = pd.read_csv('data/neuf74.csv')"
   ]
  },
  {
   "cell_type": "markdown",
   "metadata": {},
   "source": [
    "Add `data_source` column to differenciate existings from new"
   ]
  },
  {
   "cell_type": "code",
   "execution_count": null,
   "metadata": {},
   "outputs": [],
   "source": [
    "existant['data_source'] = 'existant'\n",
    "neuf['data_source'] = 'existant'"
   ]
  },
  {
   "cell_type": "markdown",
   "metadata": {},
   "source": [
    "Concat"
   ]
  },
  {
   "cell_type": "code",
   "execution_count": null,
   "metadata": {},
   "outputs": [],
   "source": [
    "df = pd.concat([existant, neuf], ignore_index=True)"
   ]
  },
  {
   "cell_type": "code",
   "execution_count": null,
   "metadata": {},
   "outputs": [],
   "source": [
    "print('existant', len(existant.columns))\n",
    "print('neuf', len(neuf.columns))\n",
    "print('df:', len(df.columns))"
   ]
  },
  {
   "cell_type": "markdown",
   "metadata": {},
   "source": [
    "### Check NAs"
   ]
  },
  {
   "cell_type": "code",
   "execution_count": null,
   "metadata": {},
   "outputs": [],
   "source": [
    "df.isna().sum()"
   ]
  },
  {
   "cell_type": "markdown",
   "metadata": {},
   "source": [
    "### Add data from `communes-france-2025.csv`"
   ]
  },
  {
   "cell_type": "markdown",
   "metadata": {},
   "source": [
    "Load communes and keep only interesting columns"
   ]
  },
  {
   "cell_type": "code",
   "execution_count": null,
   "metadata": {},
   "outputs": [],
   "source": [
    "communes = pd.read_csv('../web/application/datasets/communes-france-2025.csv')\n",
    "communes = communes[['code_insee', 'population', 'superficie_km2', 'densite', 'altitude_moyenne', 'grille_densite_texte']]"
   ]
  },
  {
   "cell_type": "markdown",
   "metadata": {},
   "source": [
    "Concat data and check for non match"
   ]
  },
  {
   "cell_type": "code",
   "execution_count": null,
   "metadata": {},
   "outputs": [],
   "source": [
    "merged_df = pd.merge(df, communes, left_on='code_insee_ban', right_on='code_insee', how='left', indicator=True)\n",
    "unmatched_rows = merged_df[merged_df['_merge'] == 'left_only']"
   ]
  },
  {
   "cell_type": "markdown",
   "metadata": {},
   "source": [
    "### Fix non matched"
   ]
  },
  {
   "cell_type": "markdown",
   "metadata": {},
   "source": [
    "Annecy makes a mess, little cities got grouped with Annecy, being now called CA Grand Annecy"
   ]
  },
  {
   "cell_type": "code",
   "execution_count": null,
   "metadata": {},
   "outputs": [],
   "source": [
    "old_annecy_insees = unmatched_rows['code_insee_ban'].unique()\n",
    "old_annecy_insees"
   ]
  },
  {
   "cell_type": "markdown",
   "metadata": {},
   "source": [
    "Drop Montmin 74187 (318 peoples). , It's a new city created after the fusion. Replace `old_annecy_insees` with Annecy insee 74010"
   ]
  },
  {
   "cell_type": "code",
   "execution_count": null,
   "metadata": {},
   "outputs": [],
   "source": [
    "df = df[df['code_insee_ban'] != 74187] # Drop Montmin\n",
    "df['code_insee_ban'] = df['code_insee_ban'].replace(old_annecy_insees, 74010) # replace old insee to new insee"
   ]
  },
  {
   "cell_type": "markdown",
   "metadata": {},
   "source": [
    "Remerge "
   ]
  },
  {
   "cell_type": "code",
   "execution_count": null,
   "metadata": {},
   "outputs": [],
   "source": [
    "merged_df = pd.merge(df, communes, left_on='code_insee_ban', right_on='code_insee', how='left')\n",
    "merged_df = merged_df.drop(columns=['code_insee'])"
   ]
  },
  {
   "cell_type": "markdown",
   "metadata": {},
   "source": [
    "### Fix `classe_altitude`"
   ]
  },
  {
   "cell_type": "code",
   "execution_count": null,
   "metadata": {},
   "outputs": [],
   "source": [
    "def categoriser_altitude(altitude):\n",
    "    \"\"\"\n",
    "    Affecte chaque logement à une tranche d'altitude\n",
    "    \n",
    "    Cette fonction permet de regrouper les logements selon leur altitude\n",
    "    pour faciliter les analyses comparatives entre vallées et montagnes.\n",
    "    \n",
    "    Args:\n",
    "        altitude (float): Altitude du logement en mètres\n",
    "        \n",
    "    Returns:\n",
    "        str: Label de la tranche d'altitude correspondante\n",
    "    \"\"\"\n",
    "    # Gestion des valeurs manquantes\n",
    "    if pd.isna(altitude):\n",
    "        return pd.NA\n",
    "    \n",
    "    # Attribution de la tranche selon les seuils définis\n",
    "    if altitude < 600:\n",
    "        return \"0-600m (Vallée)\"\n",
    "    elif altitude < 1200:\n",
    "        return \"600-1200m (Colline)\"\n",
    "    elif altitude < 1800:\n",
    "        return \"1200-1800m (Montagne)\"\n",
    "    elif altitude < 2500:\n",
    "        return \"1800-2500m (Haute montagne)\"\n",
    "    else:\n",
    "        return \">2500m (Très haute montagne)\""
   ]
  },
  {
   "cell_type": "code",
   "execution_count": null,
   "metadata": {},
   "outputs": [],
   "source": [
    "merged_df['classe_altitude'] = merged_df['altitude_moyenne'].apply(categoriser_altitude)"
   ]
  },
  {
   "cell_type": "markdown",
   "metadata": {},
   "source": [
    "### Add `categorie_dpe`"
   ]
  },
  {
   "cell_type": "code",
   "execution_count": null,
   "metadata": {},
   "outputs": [],
   "source": [
    "def categoriser_dpe(etiquette):\n",
    "    if etiquette in ['A', 'B']:\n",
    "        return 'Bons (A-B)'\n",
    "    elif etiquette in ['C', 'D']:\n",
    "        return 'Moyens (C-D)'\n",
    "    elif etiquette == 'E':\n",
    "        return 'Médiocres (E)'\n",
    "    else:  # F ou G\n",
    "        return 'Passoires (F-G)'"
   ]
  },
  {
   "cell_type": "code",
   "execution_count": null,
   "metadata": {},
   "outputs": [],
   "source": [
    "merged_df['categorie_dpe'] = merged_df['etiquette_dpe'].apply(categoriser_dpe)"
   ]
  },
  {
   "cell_type": "markdown",
   "metadata": {},
   "source": [
    "### Add `passoire`"
   ]
  },
  {
   "cell_type": "code",
   "execution_count": null,
   "metadata": {},
   "outputs": [],
   "source": [
    "merged_df['passoire'] = merged_df['etiquette_dpe'].isin(['F', 'G'])"
   ]
  },
  {
   "cell_type": "markdown",
   "metadata": {},
   "source": [
    "### Add `periode_categorie`"
   ]
  },
  {
   "cell_type": "code",
   "execution_count": null,
   "metadata": {},
   "outputs": [],
   "source": [
    "def categoriser_periode(periode):\n",
    "    \"\"\"Regroupe les périodes de construction en grandes époques\"\"\"\n",
    "    if pd.isna(periode):\n",
    "        return pd.NA\n",
    "    \n",
    "    periode_str = str(periode).lower()\n",
    "    \n",
    "    # Strings\n",
    "    if any(x in periode_str for x in ['récent']):\n",
    "        return 'Après 2012'\n",
    "    elif any(x in periode_str for x in ['avant', 'ancien']):\n",
    "        return 'Avant 1975'\n",
    "    \n",
    "    periode_int = int(periode_str.split('-')[0].split(' ')[-1])\n",
    "\n",
    "    # Avant 1975 (première réglementation thermique)\n",
    "    if periode_int < 1975:\n",
    "        return 'Avant 1975' \n",
    "    # 1975-2000 (RT 1974, 1988, 2000)\n",
    "    elif periode_int <= 2000:\n",
    "        return '1975-2000'\n",
    "    # 2001-2012 (RT 2005, 2012)\n",
    "    elif periode_int <= 2012:\n",
    "        return '2001-2012'\n",
    "    # Après 2012 (RT 2012, RE 2020)\n",
    "    else:\n",
    "        return 'Après 2012'"
   ]
  },
  {
   "cell_type": "code",
   "execution_count": null,
   "metadata": {},
   "outputs": [],
   "source": [
    "merged_df['periode_categorie'] = merged_df['periode_construction'].apply(categoriser_periode)"
   ]
  },
  {
   "cell_type": "markdown",
   "metadata": {},
   "source": [
    "### Save CSV"
   ]
  },
  {
   "cell_type": "code",
   "execution_count": null,
   "metadata": {},
   "outputs": [],
   "source": [
    "merged_df.to_csv('data/logements_74.csv', index=False)\n",
    "merged_df.shape"
   ]
  }
 ],
 "metadata": {
  "kernelspec": {
   "display_name": "Python 3",
   "language": "python",
   "name": "python3"
  },
  "language_info": {
   "codemirror_mode": {
    "name": "ipython",
    "version": 3
   },
   "file_extension": ".py",
   "mimetype": "text/x-python",
   "name": "python",
   "nbconvert_exporter": "python",
   "pygments_lexer": "ipython3",
   "version": "3.10.6"
  }
 },
 "nbformat": 4,
 "nbformat_minor": 2
}
