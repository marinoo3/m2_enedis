{
 "cells": [
  {
   "cell_type": "markdown",
   "metadata": {},
   "source": [
    "# Collect Hautes Savoies data from Ademe API"
   ]
  },
  {
   "cell_type": "markdown",
   "metadata": {},
   "source": [
    "Imports"
   ]
  },
  {
   "cell_type": "code",
   "execution_count": null,
   "metadata": {},
   "outputs": [],
   "source": [
    "import requests\n",
    "import time\n",
    "\n",
    "import pandas as pd"
   ]
  },
  {
   "cell_type": "markdown",
   "metadata": {},
   "source": [
    "### Utils and constant"
   ]
  },
  {
   "cell_type": "markdown",
   "metadata": {},
   "source": [
    "Define base url for Ademe API"
   ]
  },
  {
   "cell_type": "code",
   "execution_count": 15,
   "metadata": {},
   "outputs": [],
   "source": [
    "BASE_URL = 'https://data.ademe.fr/data-fair/api/v1/datasets'"
   ]
  },
  {
   "cell_type": "markdown",
   "metadata": {},
   "source": [
    "Safe API call"
   ]
  },
  {
   "cell_type": "code",
   "execution_count": 32,
   "metadata": {},
   "outputs": [],
   "source": [
    "def requests_API(endpoint, custom_url:str = None, params:dict = None, tic:int = 0) -> dict:\n",
    "\n",
    "    try:\n",
    "\n",
    "        if custom_url:\n",
    "            response = requests.get(custom_url)\n",
    "        else:\n",
    "            url = BASE_URL + endpoint\n",
    "            response = requests.get(url, params=params)\n",
    "\n",
    "    except ConnectionError:\n",
    "\n",
    "        print(f'ConnectionError, network failed to request API ({tic+1}/3)')\n",
    "\n",
    "        if(tic == 3):\n",
    "            print('Failed to fetch')\n",
    "            return None\n",
    "        \n",
    "        print('Trying again in 1 second')\n",
    "        time.sleep(1)\n",
    "        return requests_API(endpoint, params=params, custom_url=custom_url, tic=tic+1)\n",
    "        \n",
    "    if response.status_code != 200:\n",
    "\n",
    "        if(tic == 3):\n",
    "            print('Failed')\n",
    "            return None\n",
    "        \n",
    "        print(f'Error code {response.status_code} : {response.text}')\n",
    "        time.sleep(1)\n",
    "        return requests_API(endpoint, params=params, custom_url=custom_url, tic=tic+1)\n",
    "    \n",
    "    return response.json()"
   ]
  },
  {
   "cell_type": "markdown",
   "metadata": {},
   "source": [
    "Append `list[dict]` DataFrame"
   ]
  },
  {
   "cell_type": "code",
   "execution_count": 3,
   "metadata": {},
   "outputs": [],
   "source": [
    "def append_data(df:pd.DataFrame, data:list[dict]) -> None:\n",
    "    \n",
    "    data_df = pd.DataFrame(data)\n",
    "    return pd.concat([df, data_df], ignore_index=True)"
   ]
  },
  {
   "cell_type": "markdown",
   "metadata": {},
   "source": [
    "### Preview results"
   ]
  },
  {
   "cell_type": "markdown",
   "metadata": {},
   "source": [
    "Check number of results"
   ]
  },
  {
   "cell_type": "code",
   "execution_count": 34,
   "metadata": {},
   "outputs": [
    {
     "data": {
      "text/plain": [
       "170770"
      ]
     },
     "execution_count": 34,
     "metadata": {},
     "output_type": "execute_result"
    }
   ],
   "source": [
    "params = {\n",
    "    'size': 0,\n",
    "    'qs': 'code_departement_ban:74'\n",
    "}\n",
    "\n",
    "content = requests_API('/dpe03existant/lines', params=params)\n",
    "content['total']"
   ]
  },
  {
   "cell_type": "markdown",
   "metadata": {},
   "source": [
    "### Get all data from Haute Savoies"
   ]
  },
  {
   "cell_type": "markdown",
   "metadata": {},
   "source": [
    "Existing"
   ]
  },
  {
   "cell_type": "code",
   "execution_count": null,
   "metadata": {},
   "outputs": [
    {
     "name": "stdout",
     "output_type": "stream",
     "text": [
      "Loading: 100.0% [22578092448716%2C307914]"
     ]
    }
   ],
   "source": [
    "params = {\n",
    "    'size': 200,\n",
    "    'qs': 'code_departement_ban:74'\n",
    "}\n",
    "\n",
    "content = requests_API('/dpe03existant/lines', params=params)\n",
    "existants = pd.DataFrame(content['results'])\n",
    "\n",
    "while content.get('next'):\n",
    "\n",
    "    after_token = content['next'].split('=')[-1]\n",
    "\n",
    "    content = requests_API(None, custom_url=content['next'])\n",
    "    existants = append_data(existants, content['results'])\n",
    "\n",
    "    progress = round(existants.shape[0] / content['total'] * 100, 2)\n",
    "    print(f\"\\rLoading: {progress}% [{after_token}]\", end='', flush=True) \n",
    "\n",
    "existants.to_csv('data/existant74.csv', index=False)"
   ]
  },
  {
   "cell_type": "markdown",
   "metadata": {},
   "source": [
    "New"
   ]
  },
  {
   "cell_type": "code",
   "execution_count": null,
   "metadata": {},
   "outputs": [
    {
     "name": "stdout",
     "output_type": "stream",
     "text": [
      "Loading: 100.0% [30582116851000%2C330320]"
     ]
    }
   ],
   "source": [
    "params = {\n",
    "    'size': 200,\n",
    "    'qs': 'code_departement_ban:74'\n",
    "}\n",
    "\n",
    "content = requests_API('/dpe02neuf/lines', params=params)\n",
    "new = pd.DataFrame(content['results'])\n",
    "\n",
    "while content.get('next'):\n",
    "\n",
    "    after_token = content['next'].split('=')[-1]\n",
    "\n",
    "    content = requests_API(None, custom_url=content['next'])\n",
    "    new = append_data(new, content['results'])\n",
    "\n",
    "    progress = round(new.shape[0] / content['total'] * 100, 2)\n",
    "    print(f\"\\rLoading: {progress}% [{after_token}]\", end='', flush=True) \n",
    "\n",
    "new.to_csv('data/neuf74.csv', index=False)"
   ]
  }
 ],
 "metadata": {
  "kernelspec": {
   "display_name": "Python 3",
   "language": "python",
   "name": "python3"
  },
  "language_info": {
   "codemirror_mode": {
    "name": "ipython",
    "version": 3
   },
   "file_extension": ".py",
   "mimetype": "text/x-python",
   "name": "python",
   "nbconvert_exporter": "python",
   "pygments_lexer": "ipython3",
   "version": "3.10.6"
  }
 },
 "nbformat": 4,
 "nbformat_minor": 2
}
