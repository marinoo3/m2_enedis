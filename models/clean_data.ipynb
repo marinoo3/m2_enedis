{
 "cells": [
  {
   "cell_type": "markdown",
   "metadata": {},
   "source": [
    "# Clean and format Ademe data"
   ]
  },
  {
   "cell_type": "markdown",
   "metadata": {},
   "source": [
    "Imports"
   ]
  },
  {
   "cell_type": "code",
   "execution_count": null,
   "metadata": {},
   "outputs": [],
   "source": [
    "import pandas as pd"
   ]
  },
  {
   "cell_type": "markdown",
   "metadata": {},
   "source": [
    "### Load and concat data"
   ]
  },
  {
   "cell_type": "code",
   "execution_count": 45,
   "metadata": {},
   "outputs": [
    {
     "name": "stderr",
     "output_type": "stream",
     "text": [
      "/var/folders/vz/krrs9qks6ms_0h7qvdrthfz00000gn/T/ipykernel_651/4084556357.py:1: DtypeWarning: Columns (211,213,214,216,221,222,224,225) have mixed types. Specify dtype option on import or set low_memory=False.\n",
      "  existant = pd.read_csv('data/existant74.csv')\n",
      "/var/folders/vz/krrs9qks6ms_0h7qvdrthfz00000gn/T/ipykernel_651/4084556357.py:2: DtypeWarning: Columns (105,106,107,124,141,142,143,144,147,148,150,151,152,153,154,155,156,157,158,159,161,162,164,166,168,169,170,172,173,174,175,176,177,178,179,182,183,184) have mixed types. Specify dtype option on import or set low_memory=False.\n",
      "  neuf = pd.read_csv('data/neuf74.csv')\n"
     ]
    }
   ],
   "source": [
    "existant = pd.read_csv('data/existant74.csv')\n",
    "neuf = pd.read_csv('data/neuf74.csv')"
   ]
  },
  {
   "cell_type": "markdown",
   "metadata": {},
   "source": [
    "Add `data_source` column to differenciate existings from new"
   ]
  },
  {
   "cell_type": "code",
   "execution_count": 46,
   "metadata": {},
   "outputs": [],
   "source": [
    "existant['data_source'] = 'existant'\n",
    "neuf['data_source'] = 'existant'"
   ]
  },
  {
   "cell_type": "markdown",
   "metadata": {},
   "source": [
    "Concat"
   ]
  },
  {
   "cell_type": "code",
   "execution_count": 57,
   "metadata": {},
   "outputs": [],
   "source": [
    "df = pd.concat([existant, neuf], ignore_index=True)"
   ]
  },
  {
   "cell_type": "code",
   "execution_count": 58,
   "metadata": {},
   "outputs": [
    {
     "name": "stdout",
     "output_type": "stream",
     "text": [
      "existant 227\n",
      "neuf 186\n",
      "df: 231\n"
     ]
    }
   ],
   "source": [
    "print('existant', len(existant.columns))\n",
    "print('neuf', len(neuf.columns))\n",
    "print('df:', len(df.columns))"
   ]
  },
  {
   "cell_type": "markdown",
   "metadata": {},
   "source": [
    "### Check NAs"
   ]
  },
  {
   "cell_type": "code",
   "execution_count": 59,
   "metadata": {},
   "outputs": [
    {
     "data": {
      "text/plain": [
       "configuration_installation_chauffage_n1       38215\n",
       "conso_chauffage_installation_chauffage_n1     38216\n",
       "type_generateur_n1_ecs_n1                     38562\n",
       "numero_voie_ban                               38258\n",
       "score_ban                                         0\n",
       "                                              ...  \n",
       "data_source                                       0\n",
       "besoin_ecs_batiment                          198487\n",
       "besoin_ecs_logement                          198487\n",
       "deperditions_totales_logement                199048\n",
       "deperditions_totales_batiment                199048\n",
       "Length: 231, dtype: int64"
      ]
     },
     "execution_count": 59,
     "metadata": {},
     "output_type": "execute_result"
    }
   ],
   "source": [
    "df.isna().sum()"
   ]
  },
  {
   "cell_type": "markdown",
   "metadata": {},
   "source": [
    "### Add data from `communes-france-2025.csv`"
   ]
  },
  {
   "cell_type": "markdown",
   "metadata": {},
   "source": [
    "Load communes and keep only interesting columns"
   ]
  },
  {
   "cell_type": "code",
   "execution_count": 60,
   "metadata": {},
   "outputs": [
    {
     "name": "stderr",
     "output_type": "stream",
     "text": [
      "/var/folders/vz/krrs9qks6ms_0h7qvdrthfz00000gn/T/ipykernel_651/3713826944.py:1: DtypeWarning: Columns (1,12,14,16,23,24) have mixed types. Specify dtype option on import or set low_memory=False.\n",
      "  communes = pd.read_csv('../web/application/datasets/communes-france-2025.csv')\n"
     ]
    }
   ],
   "source": [
    "communes = pd.read_csv('../web/application/datasets/communes-france-2025.csv')\n",
    "communes = communes[['code_insee', 'population', 'superficie_km2', 'densite', 'altitude_moyenne', 'grille_densite_texte']]"
   ]
  },
  {
   "cell_type": "markdown",
   "metadata": {},
   "source": [
    "Concat data and check for non match"
   ]
  },
  {
   "cell_type": "code",
   "execution_count": 61,
   "metadata": {},
   "outputs": [],
   "source": [
    "merged_df = pd.merge(df, communes, left_on='code_insee_ban', right_on='code_insee', how='left', indicator=True)\n",
    "unmatched_rows = merged_df[merged_df['_merge'] == 'left_only']"
   ]
  },
  {
   "cell_type": "markdown",
   "metadata": {},
   "source": [
    "### Fix non matched"
   ]
  },
  {
   "cell_type": "markdown",
   "metadata": {},
   "source": [
    "Annecy makes a mess, little cities got grouped with Annecy, being now called CA Grand Annecy"
   ]
  },
  {
   "cell_type": "code",
   "execution_count": 62,
   "metadata": {},
   "outputs": [
    {
     "data": {
      "text/plain": [
       "array([74011, 74268, 74187, 74093], dtype=object)"
      ]
     },
     "execution_count": 62,
     "metadata": {},
     "output_type": "execute_result"
    }
   ],
   "source": [
    "old_annecy_insees = unmatched_rows['code_insee_ban'].unique()\n",
    "old_annecy_insees"
   ]
  },
  {
   "cell_type": "markdown",
   "metadata": {},
   "source": [
    "Drop Montmin 74187 (318 peoples). , It's a new city created after the fusion. Replace `old_annecy_insees` with Annecy insee 74010"
   ]
  },
  {
   "cell_type": "code",
   "execution_count": 63,
   "metadata": {},
   "outputs": [],
   "source": [
    "df = df[df['code_insee_ban'] != 74187] # Drop Montmin\n",
    "df['code_insee_ban'] = df['code_insee_ban'].replace(old_annecy_insees, 74010) # replace old insee to new insee"
   ]
  },
  {
   "cell_type": "markdown",
   "metadata": {},
   "source": [
    "Remerge "
   ]
  },
  {
   "cell_type": "code",
   "execution_count": 64,
   "metadata": {},
   "outputs": [],
   "source": [
    "merged_df = pd.merge(df, communes, left_on='code_insee_ban', right_on='code_insee', how='left')\n",
    "merged_df = merged_df.drop(columns=['code_insee'])"
   ]
  },
  {
   "cell_type": "markdown",
   "metadata": {},
   "source": [
    "### Save CSV"
   ]
  },
  {
   "cell_type": "code",
   "execution_count": 65,
   "metadata": {},
   "outputs": [
    {
     "data": {
      "text/plain": [
       "(203797, 236)"
      ]
     },
     "execution_count": 65,
     "metadata": {},
     "output_type": "execute_result"
    }
   ],
   "source": [
    "merged_df.to_csv('data/merged74.csv', index=False)\n",
    "merged_df.shape"
   ]
  }
 ],
 "metadata": {
  "kernelspec": {
   "display_name": "Python 3",
   "language": "python",
   "name": "python3"
  },
  "language_info": {
   "codemirror_mode": {
    "name": "ipython",
    "version": 3
   },
   "file_extension": ".py",
   "mimetype": "text/x-python",
   "name": "python",
   "nbconvert_exporter": "python",
   "pygments_lexer": "ipython3",
   "version": "3.10.6"
  }
 },
 "nbformat": 4,
 "nbformat_minor": 2
}
